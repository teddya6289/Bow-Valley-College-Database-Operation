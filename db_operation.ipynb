{
 "cells": [
  {
   "cell_type": "code",
   "execution_count": 38,
   "id": "4366f0f2",
   "metadata": {},
   "outputs": [],
   "source": [
    "import oracledb, socket, os, getpass,tabulate\n",
    "from sqlalchemy import create_engine,text\n",
    "import pyodbc\n",
    "import pandas as pd\n"
   ]
  },
  {
   "cell_type": "code",
   "execution_count": 39,
   "id": "53721c97",
   "metadata": {},
   "outputs": [],
   "source": [
    "\n",
    "def ora_conn_package():\n",
    "    user =os.environ.get('oraUser')\n",
    "    password=os.environ.get('orahr_pass')\n",
    "    service_name = os.environ.get('orapluggabledb')\n",
    "    port =  os.environ.get('oraport')\n",
    "    server = socket.gethostname()\n",
    "    \n",
    "    conn = oracledb.connect(user=user,password=password,dsn=f'{server}/{service_name}',port=port )\n",
    "    if conn is None:\n",
    "        print(\"Could not connect to database\")\n",
    "    print(\"Connected to Oracle database successfully\")                   \n",
    "    return conn\n"
   ]
  },
  {
   "cell_type": "code",
   "execution_count": 45,
   "id": "a5432636",
   "metadata": {},
   "outputs": [],
   "source": [
    "def update_oradb_record(ora_connection):\n",
    "     \n",
    "     if ora_connection is not None:\n",
    "          try:\n",
    "               \n",
    "               print(\"Enter your SQL statement (type 'END' on a new line to finish):\")\n",
    "               sql_lines = []\n",
    "               while True:\n",
    "                    line = input()\n",
    "                    if line.strip().lower() == \"end\":\n",
    "                         break\n",
    "                    sql_lines.append(line)\n",
    "\n",
    "# Join all lines into a single SQL command\n",
    "               sql_statement = \"\\n\".join(sql_lines).strip()\n",
    "# Show the SQL back to the user\n",
    "               print(\"\\nYou entered the following SQL statement:\")\n",
    "               print(\"-\" * 60)\n",
    "               print(sql_statement)\n",
    "               print(\"-\" * 60)\n",
    "               with ora_connection.cursor() as cursor:\n",
    "                    cursor.execute(sql_statement)\n",
    "                    if sql_statement.strip().lower().startswith(\"select\"):\n",
    "                         try:\n",
    "                              max_rows = int(input(\"How many rows to disply? (0 = All)\"))\n",
    "                         except ValueError:\n",
    "                              print(\"Invalid input. Defaulting to 10 rows.\")\n",
    "                              max_rows = 10\n",
    "                         rows=cursor.fetchmany(max_rows) if max_rows > 0 else cursor.fetchall()\n",
    "                         if not rows:\n",
    "                              print(\"Query executed successfully. No records found.\")\n",
    "                              return\n",
    "                         print(f'{\"\" if max_rows == 0 else f'User selected {max_rows} rows from record'}\\n{tabulate.tabulate(rows,headers=[col[0] for col in cursor.description],tablefmt='heavy_grid')}')\n",
    "                    else:\n",
    "                         ora_connection.commit()\n",
    "                         print(f\"{cursor.rowcount} row(s) affected.\")\n",
    "          except Exception as e:\n",
    "               print(\"An error occurred:\", str(e))\n"
   ]
  },
  {
   "cell_type": "code",
   "execution_count": 41,
   "id": "a82e5aa2",
   "metadata": {},
   "outputs": [],
   "source": [
    "\n",
    "def mssql_connection():\n",
    "\n",
    "# preparing connection parameters\n",
    "  server =      socket.gethostname()\n",
    "  database =    os.environ.get('sqldb')\n",
    "  Driver =      os.environ.get('sql_con_driver')\n",
    "  user =        getpass.getuser()\n",
    "  \n",
    "#connection string\n",
    "  connection_string = f'mssql+pyodbc://{user}@{server}/{database}?Trusted_Connection=Yes&driver={Driver}'\n",
    "  engine = create_engine(connection_string)\n",
    "  if engine is None:\n",
    "    print(\"Could not connect to MSSQL server\")\n",
    "  print(\"Connected to MSSQL Server successfully\")\n",
    "  return engine\n",
    "  "
   ]
  },
  {
   "cell_type": "code",
   "execution_count": 46,
   "id": "28e90a9d",
   "metadata": {},
   "outputs": [],
   "source": [
    "\n",
    "def update_sqldb_records(mssql_conn):\n",
    "   if mssql_conn is not None:\n",
    "          try:\n",
    "                   \n",
    "               print(\"Enter your SQL statement (type 'END' on a new line to finish):\")\n",
    "               sql_lines = []\n",
    "               while True:\n",
    "                  line = input()\n",
    "                  if line.strip().lower() == \"end\":\n",
    "                        break\n",
    "                  sql_lines.append(line)\n",
    "\n",
    "# Join all lines into a single SQL command\n",
    "               sql_statement = \"\\n\".join(sql_lines).strip()\n",
    "\n",
    "# Show the SQL back to the user\n",
    "               print(\"\\nYou entered the following SQL statement:\")\n",
    "               print(\"-\" * 60)\n",
    "               print(sql_statement)\n",
    "               print(\"-\" * 60)\n",
    "               with mssql_conn.connect() as conn:\n",
    "                    result = conn.execute(sql_statement)\n",
    "                    if sql_statement.strip().lower().startswith(\"select\"):\n",
    "                         try:\n",
    "                              max_rows = int(input(\"How many rows to disply? (0 = All)\"))\n",
    "                         except ValueError:\n",
    "                              print(\"Invalid input. Defaulting to 10 rows.\")\n",
    "                              max_rows = 10\n",
    "                         rows=result.fetchmany(max_rows) if max_rows > 0 else result.fetchall()\n",
    "                         if not rows:\n",
    "                              print(\"Query executed successfully. No records found.\")\n",
    "                              return\n",
    "                         output_df = pd.DataFrame(rows,columns=result.keys())\n",
    "                         print(f'{\"\" if max_rows == 0 else f'User selected {max_rows} rows from record'}\\n{tabulate.tabulate(output_df,headers=\"keys\",tablefmt='heavy_grid')}')\n",
    "                    else:\n",
    "                         conn.commit()\n",
    "                         print(f\"{result.rowcount} row(s) affected.\")\n",
    "          except Exception as e:\n",
    "               print(\"An error occurred:\", str(e))\n",
    "\n",
    "      "
   ]
  },
  {
   "cell_type": "code",
   "execution_count": 1,
   "id": "6e821814",
   "metadata": {},
   "outputs": [
    {
     "name": "stdout",
     "output_type": "stream",
     "text": [
      "Invalid entry! Database do not exist\n"
     ]
    }
   ],
   "source": [
    "Prompt = input(\"Welcome! Which of the database do you want to access?\\n ORACLE OR MSSQL SERVER\")\n",
    "if Prompt.strip().lower() == \"oracle\":\n",
    "    oracle_conn = ora_conn_package()\n",
    "    update_database_record =update_oradb_record(oracle_conn)    \n",
    "elif Prompt.strip().lower() == \"mssql server\":\n",
    "    mssql_conn = mssql_connection()\n",
    "    update_mssqldatabase_record =update_sqldb_records(mssql_conn)\n",
    "else:\n",
    "    print(\"Invalid entry! Database do not exist\")"
   ]
  }
 ],
 "metadata": {
  "kernelspec": {
   "display_name": "Python 3",
   "language": "python",
   "name": "python3"
  },
  "language_info": {
   "codemirror_mode": {
    "name": "ipython",
    "version": 3
   },
   "file_extension": ".py",
   "mimetype": "text/x-python",
   "name": "python",
   "nbconvert_exporter": "python",
   "pygments_lexer": "ipython3",
   "version": "3.12.2"
  }
 },
 "nbformat": 4,
 "nbformat_minor": 5
}
